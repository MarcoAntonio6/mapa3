{
  "nbformat": 4,
  "nbformat_minor": 0,
  "metadata": {
    "colab": {
      "provenance": [],
      "include_colab_link": true
    },
    "kernelspec": {
      "name": "python3",
      "display_name": "Python 3"
    },
    "accelerator": "GPU"
  },
  "cells": [
    {
      "cell_type": "markdown",
      "metadata": {
        "id": "view-in-github",
        "colab_type": "text"
      },
      "source": [
        "<a href=\"https://colab.research.google.com/github/MarcoAntonio6/mapa3/blob/main/ESAM_Redes_Convolucionales1.ipynb\" target=\"_parent\"><img src=\"https://colab.research.google.com/assets/colab-badge.svg\" alt=\"Open In Colab\"/></a>"
      ]
    },
    {
      "cell_type": "markdown",
      "metadata": {
        "id": "NrXy2qQIaht4"
      },
      "source": [
        "# Redes neuronales y datasets MNIST"
      ]
    },
    {
      "cell_type": "markdown",
      "metadata": {
        "id": "r9HXZqOkaht6"
      },
      "source": [
        "Este ejercicio está dividido en dos partes. Estaremos trabajando con dos datasets diferentes, pero ambos provenientes de la misma fuente:\n",
        "\n",
        "1. Dígitos manuscritos MNIST\n",
        "2. MNIST Fashion (prendas de vestir)\n",
        "\n",
        "En ambos casos, el propósito será el de emplear redes neuronales convencionales y convolucionales para obtener determinados resultados. Las librerías que utilizaremos en ambos casos son:"
      ]
    },
    {
      "cell_type": "code",
      "metadata": {
        "id": "0-owPMPpaht9"
      },
      "source": [
        "import numpy as np\n",
        "import matplotlib.pyplot as plt\n",
        "import tensorflow as tf\n",
        "\n",
        "from IPython.display import Image\n",
        "from keras.utils import plot_model\n",
        "from tensorflow import keras\n",
        "from keras import Sequential\n",
        "from keras.layers import Activation, Dropout, Conv2D, Dense, MaxPooling2D, Flatten"
      ],
      "execution_count": 31,
      "outputs": []
    },
    {
      "cell_type": "markdown",
      "metadata": {
        "id": "klj9nvH6VxUh"
      },
      "source": [
        "# PARTE 1. Reconocimiento de números manuscritos\n",
        "\n",
        "En esta primera parte, nuestro objetivo será el de crear una red neuronal capaz de reconocer imágenes de números manuscritos del 0 al 9. Veremos que es posible obtener mejores resultados utilizando una red convolucional que con una convencional. Lo primero que haremos es obtener nuestro dataset, que ya viene conjuntamente con nuestra distribución de Keras:"
      ]
    },
    {
      "cell_type": "code",
      "metadata": {
        "id": "QbX4Zg12WWd4"
      },
      "source": [
        "dataset = keras.datasets.mnist\n",
        "\n",
        "(X_train, y_train), (X_test, y_test) = dataset.load_data()"
      ],
      "execution_count": 22,
      "outputs": []
    },
    {
      "cell_type": "markdown",
      "metadata": {
        "id": "zbSr9pLnW2oI"
      },
      "source": [
        "Ahora procedamos a visualizar las dimensiones de nuestros sets de entrenamiento y prueba:"
      ]
    },
    {
      "cell_type": "code",
      "metadata": {
        "id": "aMMReCf6W8Z6",
        "outputId": "cfac077e-6e41-40f5-9c7e-a9091b6cfb7f",
        "colab": {
          "base_uri": "https://localhost:8080/"
        }
      },
      "source": [
        "print(\"Dataset de entrenamiento: \", X_train.shape)\n",
        "print(\"Dataset de prueba: \", X_test.shape)"
      ],
      "execution_count": 23,
      "outputs": [
        {
          "output_type": "stream",
          "name": "stdout",
          "text": [
            "Dataset de entrenamiento:  (60000, 28, 28)\n",
            "Dataset de prueba:  (10000, 28, 28)\n"
          ]
        }
      ]
    },
    {
      "cell_type": "markdown",
      "metadata": {
        "id": "cKrf4ULTXKdG"
      },
      "source": [
        "Veamos algunas de las imágenes del dataset:"
      ]
    },
    {
      "cell_type": "code",
      "metadata": {
        "id": "jpz9x8FLXRQ3",
        "outputId": "efb16864-bb8e-46c5-f569-a71f92c60000",
        "colab": {
          "base_uri": "https://localhost:8080/",
          "height": 807
        }
      },
      "source": [
        "_, ax = plt.subplots(5, 5, figsize=(10, 10))\n",
        "index = 0\n",
        "\n",
        "for i in range(5):\n",
        "    for j in range(5):\n",
        "        cell = ax[i][j]\n",
        "        cell.set_xticks([])\n",
        "        cell.set_yticks([])\n",
        "        cell.grid(False)\n",
        "        cell.imshow(X_test[index], cmap='gray')\n",
        "        index += 1\n",
        "\n",
        "plt.show()"
      ],
      "execution_count": 24,
      "outputs": [
        {
          "output_type": "display_data",
          "data": {
            "text/plain": [
              "<Figure size 1000x1000 with 25 Axes>"
            ],
            "image/png": "[encoded data removed]"
          },
          "metadata": {}
        }
      ]
    },
    {
      "cell_type": "markdown",
      "metadata": {
        "id": "xoE-a1khXlEV"
      },
      "source": [
        "Es importante que podamos asegurarnos que nuestras imágenes están normalizadas, por lo cual debemos llevarlas al rango 0...1. Esto lo conseguimos de manera muy sencilla simplemente diviviendo X_train y X_test por 255"
      ]
    },
    {
      "cell_type": "code",
      "metadata": {
        "id": "2xwgjXdyXyO7",
        "outputId": "75dd1752-daf9-4bba-9f08-bf60d3ea4cf7",
        "colab": {
          "base_uri": "https://localhost:8080/"
        }
      },
      "source": [
        "X_train = X_train / 255.0\n",
        "X_test = X_test / 255.0\n",
        "\n",
        "print(X_train[0:1, 10:15, 10: 15])"
      ],
      "execution_count": 25,
      "outputs": [
        {
          "output_type": "stream",
          "name": "stdout",
          "text": [
            "[[[0.00392157 0.60392157 0.99215686 0.35294118 0.        ]\n",
            "  [0.         0.54509804 0.99215686 0.74509804 0.00784314]\n",
            "  [0.         0.04313725 0.74509804 0.99215686 0.2745098 ]\n",
            "  [0.         0.         0.1372549  0.94509804 0.88235294]\n",
            "  [0.         0.         0.         0.31764706 0.94117647]]]\n"
          ]
        }
      ]
    },
    {
      "cell_type": "code",
      "source": [
        "X_train = np.expand_dims(X_train, -1)\n",
        "X_test = np.expand_dims(X_test, -1)\n",
        "\n",
        "X_train.shape"
      ],
      "metadata": {
        "id": "cFCUILj2t9Az",
        "outputId": "6c9cbb6c-7145-4be1-b14c-1be0aa780d6b",
        "colab": {
          "base_uri": "https://localhost:8080/"
        }
      },
      "execution_count": 26,
      "outputs": [
        {
          "output_type": "execute_result",
          "data": {
            "text/plain": [
              "(60000, 28, 28, 1)"
            ]
          },
          "metadata": {},
          "execution_count": 26
        }
      ]
    },
    {
      "cell_type": "markdown",
      "metadata": {
        "id": "3zMVcCxOYdtM"
      },
      "source": [
        "EJERCICIO:\n",
        "\n",
        "Crear una red convolucional de las siguientes características:\n",
        "\n",
        "*   Capa convolucional de 32 filtros 3x3, padding same\n",
        "*   Capa convolucional de 64 filtros 3x3, padding valid\n",
        "*   Capa convolucional de 128 filtros 3x3, padding valid\n",
        "\n",
        "Clasificador:\n",
        "\n",
        "* 64 unidades, activación relu\n",
        "* 64 unidades, activación relu\n",
        "* Capa de salida: 10 unidades, activación softmax\n",
        "\n"
      ]
    },
    {
      "cell_type": "code",
      "metadata": {
        "id": "Y_2mn-w7Yrtx"
      },
      "source": [
        "model = keras.Sequential([\n",
        "    # Capas convucionales\n",
        "    Conv2D(32, (3, 3), padding='same', input_shape=(28, 28, 1)),\n",
        "    Conv2D(64, (3, 3), padding='valid', activation='relu'),\n",
        "    Conv2D(128, (3, 3), padding='valid', activation='relu'),\n",
        "    # Capas clasificadores\n",
        "    Flatten(),\n",
        "    Dense(64, activation='relu'),\n",
        "    Dense(64, activation='relu'),\n",
        "    Dense(10, activation='softmax')\n",
        "])\n"
      ],
      "execution_count": 27,
      "outputs": []
    },
    {
      "cell_type": "markdown",
      "metadata": {
        "id": "t_m-f44dZhHN"
      },
      "source": [
        "Ahora procedemos a definir nuestra función de costo y el optimizador. En este caso Adam"
      ]
    },
    {
      "cell_type": "code",
      "metadata": {
        "id": "ImKkxUYMZk5M"
      },
      "source": [
        "# Completar esta parte\n",
        "model.compile(optimizer=keras.optimizers.Adam(learning_rate=0.0001), loss='sparse_categorical:crossentropy', metrics=['accuracy'])\n"
      ],
      "execution_count": 28,
      "outputs": []
    },
    {
      "cell_type": "markdown",
      "metadata": {
        "id": "CcSj2YmqaTI0"
      },
      "source": [
        "¡Ahora a entrenar nuestra red neuronal! En Keras es tan simple como llamar a __fit__"
      ]
    },
    {
      "cell_type": "code",
      "metadata": {
        "id": "UXIogY6oaQhO",
        "outputId": "ca028f49-da9b-4e1b-f47d-9013a3c9e9a2",
        "colab": {
          "base_uri": "https://localhost:8080/",
          "height": 824
        }
      },
      "source": [
        "n_epochs = 10\n",
        "\n",
        "# Completar esta parte\n",
        "hist = model.fit(X_train, y_train, validation_data=[X_test, y_test], epochs=n_epochs, batch_size=32)\n"
      ],
      "execution_count": 33,
      "outputs": [
        {
          "output_type": "stream",
          "name": "stdout",
          "text": [
            "Epoch 1/10\n"
          ]
        },
        {
          "output_type": "error",
          "ename": "ValueError",
          "evalue": "ignored",
          "traceback": [
            "\u001b[0;31m---------------------------------------------------------------------------\u001b[0m",
            "\u001b[0;31mValueError\u001b[0m                                Traceback (most recent call last)",
            "\u001b[0;32m<ipython-input-33-c3902d171cc2>\u001b[0m in \u001b[0;36m<cell line: 4>\u001b[0;34m()\u001b[0m\n\u001b[1;32m      2\u001b[0m \u001b[0;34m\u001b[0m\u001b[0m\n\u001b[1;32m      3\u001b[0m \u001b[0;31m# Completar esta parte\u001b[0m\u001b[0;34m\u001b[0m\u001b[0;34m\u001b[0m\u001b[0m\n\u001b[0;32m----> 4\u001b[0;31m \u001b[0mhist\u001b[0m \u001b[0;34m=\u001b[0m \u001b[0mmodel\u001b[0m\u001b[0;34m.\u001b[0m\u001b[0mfit\u001b[0m\u001b[0;34m(\u001b[0m\u001b[0mX_train\u001b[0m\u001b[0;34m,\u001b[0m \u001b[0my_train\u001b[0m\u001b[0;34m,\u001b[0m \u001b[0mvalidation_data\u001b[0m\u001b[0;34m=\u001b[0m\u001b[0;34m[\u001b[0m\u001b[0mX_test\u001b[0m\u001b[0;34m,\u001b[0m \u001b[0my_test\u001b[0m\u001b[0;34m]\u001b[0m\u001b[0;34m,\u001b[0m \u001b[0mepochs\u001b[0m\u001b[0;34m=\u001b[0m\u001b[0mn_epochs\u001b[0m\u001b[0;34m,\u001b[0m \u001b[0mbatch_size\u001b[0m\u001b[0;34m=\u001b[0m\u001b[0;36m32\u001b[0m\u001b[0;34m)\u001b[0m\u001b[0;34m\u001b[0m\u001b[0;34m\u001b[0m\u001b[0m\n\u001b[0m",
            "\u001b[0;32m/usr/local/lib/python3.10/dist-packages/keras/src/utils/traceback_utils.py\u001b[0m in \u001b[0;36merror_handler\u001b[0;34m(*args, **kwargs)\u001b[0m\n\u001b[1;32m     68\u001b[0m             \u001b[0;31m# To get the full stack trace, call:\u001b[0m\u001b[0;34m\u001b[0m\u001b[0;34m\u001b[0m\u001b[0m\n\u001b[1;32m     69\u001b[0m             \u001b[0;31m# `tf.debugging.disable_traceback_filtering()`\u001b[0m\u001b[0;34m\u001b[0m\u001b[0;34m\u001b[0m\u001b[0m\n\u001b[0;32m---> 70\u001b[0;31m             \u001b[0;32mraise\u001b[0m \u001b[0me\u001b[0m\u001b[0;34m.\u001b[0m\u001b[0mwith_traceback\u001b[0m\u001b[0;34m(\u001b[0m\u001b[0mfiltered_tb\u001b[0m\u001b[0;34m)\u001b[0m \u001b[0;32mfrom\u001b[0m \u001b[0;32mNone\u001b[0m\u001b[0;34m\u001b[0m\u001b[0;34m\u001b[0m\u001b[0m\n\u001b[0m\u001b[1;32m     71\u001b[0m         \u001b[0;32mfinally\u001b[0m\u001b[0;34m:\u001b[0m\u001b[0;34m\u001b[0m\u001b[0;34m\u001b[0m\u001b[0m\n\u001b[1;32m     72\u001b[0m             \u001b[0;32mdel\u001b[0m \u001b[0mfiltered_tb\u001b[0m\u001b[0;34m\u001b[0m\u001b[0;34m\u001b[0m\u001b[0m\n",
            "\u001b[0;32m/usr/local/lib/python3.10/dist-packages/keras/src/engine/training.py\u001b[0m in \u001b[0;36mtf__train_function\u001b[0;34m(iterator)\u001b[0m\n\u001b[1;32m     13\u001b[0m                 \u001b[0;32mtry\u001b[0m\u001b[0;34m:\u001b[0m\u001b[0;34m\u001b[0m\u001b[0;34m\u001b[0m\u001b[0m\n\u001b[1;32m     14\u001b[0m                     \u001b[0mdo_return\u001b[0m \u001b[0;34m=\u001b[0m \u001b[0;32mTrue\u001b[0m\u001b[0;34m\u001b[0m\u001b[0;34m\u001b[0m\u001b[0m\n\u001b[0;32m---> 15\u001b[0;31m                     \u001b[0mretval_\u001b[0m \u001b[0;34m=\u001b[0m \u001b[0mag__\u001b[0m\u001b[0;34m.\u001b[0m\u001b[0mconverted_call\u001b[0m\u001b[0;34m(\u001b[0m\u001b[0mag__\u001b[0m\u001b[0;34m.\u001b[0m\u001b[0mld\u001b[0m\u001b[0;34m(\u001b[0m\u001b[0mstep_function\u001b[0m\u001b[0;34m)\u001b[0m\u001b[0;34m,\u001b[0m \u001b[0;34m(\u001b[0m\u001b[0mag__\u001b[0m\u001b[0;34m.\u001b[0m\u001b[0mld\u001b[0m\u001b[0;34m(\u001b[0m\u001b[0mself\u001b[0m\u001b[0;34m)\u001b[0m\u001b[0;34m,\u001b[0m \u001b[0mag__\u001b[0m\u001b[0;34m.\u001b[0m\u001b[0mld\u001b[0m\u001b[0;34m(\u001b[0m\u001b[0miterator\u001b[0m\u001b[0;34m)\u001b[0m\u001b[0;34m)\u001b[0m\u001b[0;34m,\u001b[0m \u001b[0;32mNone\u001b[0m\u001b[0;34m,\u001b[0m \u001b[0mfscope\u001b[0m\u001b[0;34m)\u001b[0m\u001b[0;34m\u001b[0m\u001b[0;34m\u001b[0m\u001b[0m\n\u001b[0m\u001b[1;32m     16\u001b[0m                 \u001b[0;32mexcept\u001b[0m\u001b[0;34m:\u001b[0m\u001b[0;34m\u001b[0m\u001b[0;34m\u001b[0m\u001b[0m\n\u001b[1;32m     17\u001b[0m                     \u001b[0mdo_return\u001b[0m \u001b[0;34m=\u001b[0m \u001b[0;32mFalse\u001b[0m\u001b[0;34m\u001b[0m\u001b[0;34m\u001b[0m\u001b[0m\n",
            "\u001b[0;31mValueError\u001b[0m: in user code:\n\n    File \"/usr/local/lib/python3.10/dist-packages/keras/src/engine/training.py\", line 1338, in train_function  *\n        return step_function(self, iterator)\n    File \"/usr/local/lib/python3.10/dist-packages/keras/src/engine/training.py\", line 1322, in step_function  **\n        outputs = model.distribute_strategy.run(run_step, args=(data,))\n    File \"/usr/local/lib/python3.10/dist-packages/keras/src/engine/training.py\", line 1303, in run_step  **\n        outputs = model.train_step(data)\n    File \"/usr/local/lib/python3.10/dist-packages/keras/src/engine/training.py\", line 1081, in train_step\n        loss = self.compute_loss(x, y, y_pred, sample_weight)\n    File \"/usr/local/lib/python3.10/dist-packages/keras/src/engine/training.py\", line 1139, in compute_loss\n        return self.compiled_loss(\n    File \"/usr/local/lib/python3.10/dist-packages/keras/src/engine/compile_utils.py\", line 240, in __call__\n        self.build(y_pred)\n    File \"/usr/local/lib/python3.10/dist-packages/keras/src/engine/compile_utils.py\", line 182, in build\n        self._losses = tf.nest.map_structure(\n    File \"/usr/local/lib/python3.10/dist-packages/keras/src/engine/compile_utils.py\", line 353, in _get_loss_object\n        loss = losses_mod.get(loss)\n    File \"/usr/local/lib/python3.10/dist-packages/keras/src/losses.py\", line 2929, in get\n        return deserialize(identifier, use_legacy_format=use_legacy_format)\n    File \"/usr/local/lib/python3.10/dist-packages/keras/src/losses.py\", line 2876, in deserialize\n        return legacy_serialization.deserialize_keras_object(\n    File \"/usr/local/lib/python3.10/dist-packages/keras/src/saving/legacy/serialization.py\", line 537, in deserialize_keras_object\n        raise ValueError(\n\n    ValueError: Unknown loss function: 'sparse_categorical:crossentropy'. Please ensure you are using a `keras.utils.custom_object_scope` and that this object is included in the scope. See https://www.tensorflow.org/guide/keras/save_and_serialize#registering_the_custom_object for details.\n"
          ]
        }
      ]
    },
    {
      "cell_type": "code",
      "source": [],
      "metadata": {
        "id": "hiM3-ZpC7DiL"
      },
      "execution_count": null,
      "outputs": []
    },
    {
      "cell_type": "code",
      "source": [],
      "metadata": {
        "id": "7mVyqZLa6OjS"
      },
      "execution_count": null,
      "outputs": []
    },
    {
      "cell_type": "markdown",
      "metadata": {
        "id": "_zL7sLu5ciRW"
      },
      "source": [
        "También podemos visualizar el historial de error de nuestra red neuronal. Esto es muy sencillo por medio de __hist__"
      ]
    },
    {
      "cell_type": "code",
      "metadata": {
        "id": "6E_punmacxkE"
      },
      "source": [
        "history = hist.history\n",
        "loss = history['loss']\n",
        "val_loss = history['val_loss']\n",
        "x = np.arange(n_epochs) + 1\n",
        "\n",
        "plt.title(\"Loss function\")\n",
        "plt.plot(x, loss, label=\"Train loss\")\n",
        "plt.plot(x, val_loss, label=\"Validation loss\")\n",
        "plt.legend()\n",
        "plt.show()"
      ],
      "execution_count": null,
      "outputs": []
    },
    {
      "cell_type": "markdown",
      "metadata": {
        "id": "krX6wpJxj6fX"
      },
      "source": [
        "No estaría demás probar con algunas imágenes para ver cómo vamos"
      ]
    },
    {
      "cell_type": "markdown",
      "metadata": {
        "id": "5hWqpSzmaht7"
      },
      "source": [
        "# PARTE 2. Fashion MNIST"
      ]
    },
    {
      "cell_type": "markdown",
      "metadata": {
        "id": "PHU55n4Faht8"
      },
      "source": [
        "El dataset anterior era muy sencillo y cualquier modelo sencillo es capaz de obtener muy buenos resultados. Sin embargo ahora nos moveremos a un dataset de imágenes un poco más complejo"
      ]
    },
    {
      "cell_type": "markdown",
      "metadata": {
        "id": "DvFVYB-8ahuA"
      },
      "source": [
        "La distribución de Keras ya trae consigo el dataset que utilizaremos para este ejercicio, por lo cual lo único que debemos hacer es cargar el mismo."
      ]
    },
    {
      "cell_type": "code",
      "metadata": {
        "id": "x_NjgA6aahuB"
      },
      "source": [
        "dataset = keras.datasets.fashion_mnist\n",
        "\n",
        "(X_train, y_train), (X_test, y_test) = dataset.load_data()"
      ],
      "execution_count": null,
      "outputs": []
    },
    {
      "cell_type": "markdown",
      "metadata": {
        "id": "Xd2dcrv1ahuD"
      },
      "source": [
        "EJERCICIO: Visualizar las dimensiones de los sets de entrenamiento y prueba. Cuántos ejemplos tiene cada dataset y cuáles son sus dimensiones?"
      ]
    },
    {
      "cell_type": "code",
      "metadata": {
        "id": "jjqXAzW6ahuE"
      },
      "source": [
        "print(\"Dimensiones de X_train: \", X_train.shape)\n",
        "print(\"Dimensiones de X_test: \", X_test.shape)"
      ],
      "execution_count": null,
      "outputs": []
    },
    {
      "cell_type": "markdown",
      "metadata": {
        "id": "drvOgk_lahuJ"
      },
      "source": [
        "Ahora procederemos a codificar nuestras clases según el índice entre 0 y 9 que le corresponde a su respectiva categoría:"
      ]
    },
    {
      "cell_type": "code",
      "metadata": {
        "id": "M2CECRv_ahuK"
      },
      "source": [
        "print(\"Primeros 10 elementos de y_test: \", y_test[0:10])\n",
        "\n",
        "clases = ['Polera', 'Pantalón', 'Chompa', 'Vestido', 'Chaqueta', 'Sandalias', 'Camisa', 'Tenis', 'Bolsa', 'Bota']"
      ],
      "execution_count": null,
      "outputs": []
    },
    {
      "cell_type": "markdown",
      "metadata": {
        "id": "54XUIDyZahuN"
      },
      "source": [
        "A continuación vemos algunas imágenes del dataset con sus respectivos rótulos"
      ]
    },
    {
      "cell_type": "code",
      "metadata": {
        "id": "TzNy_gwMahuO"
      },
      "source": [
        "_, ax = plt.subplots(5, 5, figsize=(10, 10))\n",
        "index = 0\n",
        "\n",
        "for i in range(5):\n",
        "    for j in range(5):\n",
        "        cell = ax[i][j]\n",
        "        cell.set_xticks([])\n",
        "        cell.set_yticks([])\n",
        "        cell.grid(False)\n",
        "        cell.set_xlabel(clases[y_test[index]])\n",
        "        cell.imshow(X_test[index], cmap='gray')\n",
        "        index += 1\n",
        "\n",
        "plt.show()"
      ],
      "execution_count": null,
      "outputs": []
    },
    {
      "cell_type": "markdown",
      "metadata": {
        "id": "z0eMqYgsahuT"
      },
      "source": [
        "EJERCICIO: Normalizar los sets de entrenamiento y prueba para que estén en el rango 0 - 1"
      ]
    },
    {
      "cell_type": "code",
      "metadata": {
        "id": "QUjYT1urahuU"
      },
      "source": [
        "X_train = X_train / 255.0\n",
        "X_test = X_test / 255.0\n",
        "print(X_train[0, 5:10, 5:10])"
      ],
      "execution_count": null,
      "outputs": []
    },
    {
      "cell_type": "markdown",
      "metadata": {
        "id": "2tNHHtDKahuW"
      },
      "source": [
        "Ahora tenemos todo lo que necesitamos para entrenar nuestro modelo. En este sentido, lo primero que haremos será definir el mismo:"
      ]
    },
    {
      "cell_type": "markdown",
      "metadata": {
        "id": "U1LTqf3dm576"
      },
      "source": [
        "EJERCICIO:\n",
        "\n",
        "Definir una red convolucional de las siguientes características:\n",
        "\n",
        "* Capa convolucional de 64 filtros 3x3, padding same\n",
        "* Capa convolucional de 64 filtros 3x3, padding same\n",
        "* Capa convolucional de 128 filtros 3x3, padding same\n",
        "\n",
        "Clasificador:\n",
        "\n",
        "* 64 unidades, activación relu\n",
        "* 64 unidades, activación relu\n",
        "* Capa de salida: 10 unidades, activación softmax"
      ]
    },
    {
      "cell_type": "code",
      "metadata": {
        "id": "uRKqEhKdahuY"
      },
      "source": [
        "# Completar\n",
        "\n",
        "model = keras.Sequential([\n",
        "\n",
        "])"
      ],
      "execution_count": null,
      "outputs": []
    },
    {
      "cell_type": "markdown",
      "metadata": {
        "id": "BDfUHfxIahua"
      },
      "source": [
        "EJERCICIO: Compilar el modelo con los siguiente parmámetros:\n",
        "\n",
        "- Optimizador Rmsprop\n",
        "- Loss: sparse_categorical_crossentropy\n",
        "- Métricas: Accuracy"
      ]
    },
    {
      "cell_type": "code",
      "metadata": {
        "id": "lz1aM_wTahuc"
      },
      "source": [
        "# Completar el código\n"
      ],
      "execution_count": null,
      "outputs": []
    },
    {
      "cell_type": "markdown",
      "metadata": {
        "id": "O6p5j7jEnfTN"
      },
      "source": [
        "EJERCICIO: Entrenar el modelo. 10 epochs. Visualizar los datos de validación en cada iteración."
      ]
    },
    {
      "cell_type": "code",
      "metadata": {
        "id": "_HPeLkogahue"
      },
      "source": [
        "# Entrenar el modelo\n",
        "n_iter = 10\n",
        "\n",
        "hist ="
      ],
      "execution_count": null,
      "outputs": []
    },
    {
      "cell_type": "markdown",
      "metadata": {
        "id": "NJicZgkFahui"
      },
      "source": [
        "Podemos ver que nuestra exactitud en validación es 90% en el mejor de los casos, lo cual no está mal. Sin embargo, las redes convolucionales nos permiten mejorar sustancialmente estos resultados. A continuación veremos cómo podemos mejorar esto con una red convolucional."
      ]
    }
  ]
}